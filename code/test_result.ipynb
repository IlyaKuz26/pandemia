{
 "cells": [
  {
   "cell_type": "markdown",
   "metadata": {},
   "source": [
    "# Импорт необходимых библиотек"
   ]
  },
  {
   "cell_type": "code",
   "execution_count": 39,
   "metadata": {},
   "outputs": [],
   "source": [
    "import pandas as pd\n",
    "import numpy as np\n",
    "from sklearn.model_selection import train_test_split\n",
    "\n",
    "from sklearn.linear_model import LinearRegression\n",
    "from catboost import CatBoostRegressor\n",
    "\n",
    "from sklearn.metrics  import mean_absolute_error\n",
    "            \n",
    "from sklearn.model_selection import cross_val_score\n"
   ]
  },
  {
   "cell_type": "markdown",
   "metadata": {},
   "source": [
    "# Проверка модели"
   ]
  },
  {
   "cell_type": "code",
   "execution_count": 40,
   "metadata": {},
   "outputs": [],
   "source": [
    "def data_preprocess(filename = \"../dataset/covid_data_train.csv\"):\n",
    "    \"\"\"Call 'check_saved_model' to preprocess data before model checks.\"\"\"\n",
    "\n",
    "    df = pd.read_csv(filename, sep=',', encoding='utf-8') #Чтение файла\n",
    "    df.drop('Unnamed: 0', axis=1, inplace=True)\n",
    "\n",
    "    df.drop_duplicates(subset=[\"name\", \"district\"], keep = 'first', inplace = True) #Удаление дубликатов\n",
    "    df.dropna(subset = [\"inf_rate\"], axis = 0, inplace = True)\n",
    "    \n",
    "    #Удаление малозначащих признаков\n",
    "    drop_columns = []\n",
    "    drop_columns += list(df.loc[:,\"life_quality_place_rating\":\"life_costs\"].columns)\n",
    "    drop_columns += list(['lng'])\n",
    "    df.drop(drop_columns, axis=1, inplace=True)\n",
    "\n",
    "    #Удаление колонок с именами городов и повторным названием регионв\n",
    "    df.drop([\"name\",\"region_x\"], axis=1, inplace=True)\n",
    "    \n",
    "    #Заполнение пропусков\n",
    "    df.fillna(0, inplace = True)\n",
    "    \n",
    "    #Превращение признаков в категориальные\n",
    "    df[\"district\"] = df[\"district\"].astype(\"category\").cat.codes\n",
    "    df[\"subject\"] = df[\"subject\"].astype(\"category\").cat.codes\n",
    "\n",
    "    return df"
   ]
  },
  {
   "cell_type": "code",
   "execution_count": 41,
   "metadata": {},
   "outputs": [],
   "source": [
    "def check_saved_model(model_path = \"../model/CBR_model_v1\"):\n",
    "    \"\"\"Call 'check_saved_model' to check if the model is valid. This function returns True if it is.\"\"\"\n",
    "    model = CatBoostRegressor()\n",
    "    model.load_model(fname=model_path, format='cbm')\n",
    "\n",
    "    df = data_preprocess()\n",
    "    X = df.drop(\"inf_rate\", axis = 1)\n",
    "    y = df[\"inf_rate\"]\n",
    "\n",
    "    result = cross_val_score(estimator=model, \n",
    "        X=X, y=y, scoring='neg_mean_absolute_error', cv=5, verbose=False)\n",
    "\n",
    "    if (-result.mean() <= 0.01): return True\n",
    "    return False"
   ]
  },
  {
   "cell_type": "code",
   "execution_count": 42,
   "metadata": {},
   "outputs": [
    {
     "name": "stdout",
     "output_type": "stream",
     "text": [
      "True\n"
     ]
    }
   ],
   "source": [
    "print(check_saved_model(\"../model/CBR_model_v1\"))"
   ]
  },
  {
   "cell_type": "markdown",
   "metadata": {},
   "source": [
    "# Получение и сохранение результата на тестовом датасете"
   ]
  },
  {
   "cell_type": "code",
   "execution_count": 46,
   "metadata": {},
   "outputs": [],
   "source": [
    "def get_test_data(filename='../dataset/covid_data_test.csv'):\n",
    "    \"\"\"Call 'get_test_data' to read and preprocess test data\"\"\"\n",
    "    df = pd.read_csv(filename, sep=',', encoding='utf-8')\n",
    "    df.drop('Unnamed: 0', axis=1, inplace=True)\n",
    "\n",
    "    drop_columns = []\n",
    "    drop_columns += list(df.loc[:,\"life_quality_place_rating\":\"life_costs\"].columns)\n",
    "    drop_columns += list(['lng'])\n",
    "    df.drop(drop_columns, axis=1, inplace=True)\n",
    "\n",
    "    df.drop([\"name\",\"region_x\"], axis=1, inplace=True)\n",
    "\n",
    "    df.fillna(0, inplace = True)\n",
    "\n",
    "    df[\"district\"] = df[\"district\"].astype(\"category\").cat.codes\n",
    "    df[\"subject\"] = df[\"subject\"].astype(\"category\").cat.codes\n",
    "\n",
    "    return df "
   ]
  },
  {
   "cell_type": "code",
   "execution_count": 49,
   "metadata": {},
   "outputs": [],
   "source": [
    "def predict_and_save_value(filename=\"../dataset/covid_data_test.csv\", model_path = \"../model/CBR_model_v1\"):\n",
    "    \"\"\"Call 'predict_and_save_value' to get the model prediction. This function takes one argument:\n",
    "    path to csv-file that contains data to use for prediction.\n",
    "    Produces: Team IVE file in current folder.\n",
    "    P.S. It also produces catboost_info folder.\"\"\"\n",
    "    \n",
    "    data = get_test_data(filename)\n",
    "    model = CatBoostRegressor()\n",
    "    model.load_model(fname=model_path, format='cbm')\n",
    "\n",
    "    predicted = pd.Series(model.predict(data), name='inf_rate')\n",
    "\n",
    "    predicted.to_csv('../result/Team IVE.csv', index=True)"
   ]
  },
  {
   "cell_type": "code",
   "execution_count": 50,
   "metadata": {},
   "outputs": [],
   "source": [
    "predict_and_save_value(filename=\"../dataset/covid_data_test.csv\", model_path=\"../model/CBR_model_v1\")"
   ]
  },
  {
   "cell_type": "code",
   "execution_count": null,
   "metadata": {},
   "outputs": [],
   "source": []
  }
 ],
 "metadata": {
  "kernelspec": {
   "display_name": "Python 3 (ipykernel)",
   "language": "python",
   "name": "python3"
  },
  "language_info": {
   "codemirror_mode": {
    "name": "ipython",
    "version": 3
   },
   "file_extension": ".py",
   "mimetype": "text/x-python",
   "name": "python",
   "nbconvert_exporter": "python",
   "pygments_lexer": "ipython3",
   "version": "3.10.5"
  },
  "vscode": {
   "interpreter": {
    "hash": "1d5c1156327dacead463cc502c55ebae8ce9c8c01979cf154173ff808e75bf55"
   }
  }
 },
 "nbformat": 4,
 "nbformat_minor": 2
}
